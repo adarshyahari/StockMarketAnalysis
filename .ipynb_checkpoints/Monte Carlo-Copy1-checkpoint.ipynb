{
 "cells": [
  {
   "cell_type": "code",
   "execution_count": 75,
   "id": "462c2cda",
   "metadata": {},
   "outputs": [],
   "source": [
    "#Python Data Analysis imports\n",
    "import pandas as pd\n",
    "from pandas import Series,DataFrame\n",
    "import numpy as np\n",
    "\n",
    "#Visualisation imports\n",
    "import matplotlib.pyplot as plt\n",
    "import seaborn as sns\n",
    "sns.set_style('whitegrid')\n",
    "%matplotlib inline\n",
    "\n",
    "#To grab stock data\n",
    "from pandas_datareader import data as pdr\n",
    "import datetime as dt\n",
    "\n",
    "#To handle floats in Python 2\n",
    "from __future__ import division"
   ]
  },
  {
   "cell_type": "code",
   "execution_count": 76,
   "id": "03441666",
   "metadata": {},
   "outputs": [],
   "source": [
    "#Setting the end date to today\n",
    "end = dt.datetime.now()\n",
    "#Start date set to 1 year back\n",
    "start = dt.datetime(end.year-1,end.month,end.day)"
   ]
  },
  {
   "cell_type": "code",
   "execution_count": 77,
   "id": "3671e8d0",
   "metadata": {},
   "outputs": [],
   "source": [
    "stocks = ['TCS.NS','HCLTECH.NS','INFY.NS','TECHM.NS','WIPRO.NS','MINDTREE.NS','OFSS.NS','TATAELXSI.NS','INFIBEAM.NS','NIITLTD.NS']\n",
    "df = pdr.get_data_yahoo(stocks, start, end)"
   ]
  },
  {
   "cell_type": "code",
   "execution_count": null,
   "id": "ff3b5970",
   "metadata": {},
   "outputs": [],
   "source": []
  },
  {
   "cell_type": "code",
   "execution_count": 78,
   "id": "ce99d1b0",
   "metadata": {},
   "outputs": [
    {
     "data": {
      "text/html": [
       "<div>\n",
       "<style scoped>\n",
       "    .dataframe tbody tr th:only-of-type {\n",
       "        vertical-align: middle;\n",
       "    }\n",
       "\n",
       "    .dataframe tbody tr th {\n",
       "        vertical-align: top;\n",
       "    }\n",
       "\n",
       "    .dataframe thead th {\n",
       "        text-align: right;\n",
       "    }\n",
       "</style>\n",
       "<table border=\"1\" class=\"dataframe\">\n",
       "  <thead>\n",
       "    <tr style=\"text-align: right;\">\n",
       "      <th>Symbols</th>\n",
       "      <th>TCS.NS</th>\n",
       "      <th>HCLTECH.NS</th>\n",
       "      <th>INFY.NS</th>\n",
       "      <th>TECHM.NS</th>\n",
       "      <th>WIPRO.NS</th>\n",
       "      <th>MINDTREE.NS</th>\n",
       "      <th>OFSS.NS</th>\n",
       "      <th>TATAELXSI.NS</th>\n",
       "      <th>INFIBEAM.NS</th>\n",
       "      <th>NIITLTD.NS</th>\n",
       "    </tr>\n",
       "    <tr>\n",
       "      <th>Date</th>\n",
       "      <th></th>\n",
       "      <th></th>\n",
       "      <th></th>\n",
       "      <th></th>\n",
       "      <th></th>\n",
       "      <th></th>\n",
       "      <th></th>\n",
       "      <th></th>\n",
       "      <th></th>\n",
       "      <th></th>\n",
       "    </tr>\n",
       "  </thead>\n",
       "  <tbody>\n",
       "    <tr>\n",
       "      <th>2021-09-29</th>\n",
       "      <td>3791.899902</td>\n",
       "      <td>1281.199951</td>\n",
       "      <td>1692.250000</td>\n",
       "      <td>1395.349976</td>\n",
       "      <td>640.750000</td>\n",
       "      <td>4231.899902</td>\n",
       "      <td>4533.649902</td>\n",
       "      <td>5597.750000</td>\n",
       "      <td>41.900002</td>\n",
       "      <td>361.250000</td>\n",
       "    </tr>\n",
       "    <tr>\n",
       "      <th>2021-09-30</th>\n",
       "      <td>3775.550049</td>\n",
       "      <td>1279.550049</td>\n",
       "      <td>1675.199951</td>\n",
       "      <td>1380.599976</td>\n",
       "      <td>634.099976</td>\n",
       "      <td>4200.100098</td>\n",
       "      <td>4555.950195</td>\n",
       "      <td>5594.049805</td>\n",
       "      <td>41.349998</td>\n",
       "      <td>372.299988</td>\n",
       "    </tr>\n",
       "    <tr>\n",
       "      <th>2021-10-01</th>\n",
       "      <td>3730.199951</td>\n",
       "      <td>1273.750000</td>\n",
       "      <td>1665.150024</td>\n",
       "      <td>1371.250000</td>\n",
       "      <td>636.250000</td>\n",
       "      <td>4184.600098</td>\n",
       "      <td>4512.250000</td>\n",
       "      <td>5782.799805</td>\n",
       "      <td>41.750000</td>\n",
       "      <td>349.649994</td>\n",
       "    </tr>\n",
       "    <tr>\n",
       "      <th>2021-10-04</th>\n",
       "      <td>3773.300049</td>\n",
       "      <td>1278.650024</td>\n",
       "      <td>1678.750000</td>\n",
       "      <td>1399.050049</td>\n",
       "      <td>641.049988</td>\n",
       "      <td>4253.000000</td>\n",
       "      <td>4622.250000</td>\n",
       "      <td>5889.600098</td>\n",
       "      <td>43.500000</td>\n",
       "      <td>361.350006</td>\n",
       "    </tr>\n",
       "    <tr>\n",
       "      <th>2021-10-05</th>\n",
       "      <td>3833.300049</td>\n",
       "      <td>1305.150024</td>\n",
       "      <td>1692.800049</td>\n",
       "      <td>1413.050049</td>\n",
       "      <td>646.849976</td>\n",
       "      <td>4285.100098</td>\n",
       "      <td>4703.049805</td>\n",
       "      <td>5840.149902</td>\n",
       "      <td>43.500000</td>\n",
       "      <td>353.100006</td>\n",
       "    </tr>\n",
       "  </tbody>\n",
       "</table>\n",
       "</div>"
      ],
      "text/plain": [
       "Symbols          TCS.NS   HCLTECH.NS      INFY.NS     TECHM.NS    WIPRO.NS  \\\n",
       "Date                                                                         \n",
       "2021-09-29  3791.899902  1281.199951  1692.250000  1395.349976  640.750000   \n",
       "2021-09-30  3775.550049  1279.550049  1675.199951  1380.599976  634.099976   \n",
       "2021-10-01  3730.199951  1273.750000  1665.150024  1371.250000  636.250000   \n",
       "2021-10-04  3773.300049  1278.650024  1678.750000  1399.050049  641.049988   \n",
       "2021-10-05  3833.300049  1305.150024  1692.800049  1413.050049  646.849976   \n",
       "\n",
       "Symbols     MINDTREE.NS      OFSS.NS  TATAELXSI.NS  INFIBEAM.NS  NIITLTD.NS  \n",
       "Date                                                                         \n",
       "2021-09-29  4231.899902  4533.649902   5597.750000    41.900002  361.250000  \n",
       "2021-09-30  4200.100098  4555.950195   5594.049805    41.349998  372.299988  \n",
       "2021-10-01  4184.600098  4512.250000   5782.799805    41.750000  349.649994  \n",
       "2021-10-04  4253.000000  4622.250000   5889.600098    43.500000  361.350006  \n",
       "2021-10-05  4285.100098  4703.049805   5840.149902    43.500000  353.100006  "
      ]
     },
     "execution_count": 78,
     "metadata": {},
     "output_type": "execute_result"
    }
   ],
   "source": [
    "Close = df.Close\n",
    "Close.tail()"
   ]
  },
  {
   "cell_type": "code",
   "execution_count": 79,
   "id": "010fe8fb",
   "metadata": {},
   "outputs": [
    {
     "data": {
      "text/html": [
       "<div>\n",
       "<style scoped>\n",
       "    .dataframe tbody tr th:only-of-type {\n",
       "        vertical-align: middle;\n",
       "    }\n",
       "\n",
       "    .dataframe tbody tr th {\n",
       "        vertical-align: top;\n",
       "    }\n",
       "\n",
       "    .dataframe thead th {\n",
       "        text-align: right;\n",
       "    }\n",
       "</style>\n",
       "<table border=\"1\" class=\"dataframe\">\n",
       "  <thead>\n",
       "    <tr style=\"text-align: right;\">\n",
       "      <th>Symbols</th>\n",
       "      <th>TCS.NS</th>\n",
       "      <th>HCLTECH.NS</th>\n",
       "      <th>INFY.NS</th>\n",
       "      <th>TECHM.NS</th>\n",
       "      <th>WIPRO.NS</th>\n",
       "      <th>MINDTREE.NS</th>\n",
       "      <th>OFSS.NS</th>\n",
       "      <th>TATAELXSI.NS</th>\n",
       "      <th>INFIBEAM.NS</th>\n",
       "      <th>NIITLTD.NS</th>\n",
       "    </tr>\n",
       "  </thead>\n",
       "  <tbody>\n",
       "    <tr>\n",
       "      <th>count</th>\n",
       "      <td>69.000000</td>\n",
       "      <td>69.000000</td>\n",
       "      <td>69.000000</td>\n",
       "      <td>69.000000</td>\n",
       "      <td>69.000000</td>\n",
       "      <td>69.000000</td>\n",
       "      <td>69.000000</td>\n",
       "      <td>69.000000</td>\n",
       "      <td>69.000000</td>\n",
       "      <td>69.000000</td>\n",
       "    </tr>\n",
       "    <tr>\n",
       "      <th>mean</th>\n",
       "      <td>3518.062312</td>\n",
       "      <td>1117.671011</td>\n",
       "      <td>1655.273190</td>\n",
       "      <td>1296.709420</td>\n",
       "      <td>611.323912</td>\n",
       "      <td>3302.867396</td>\n",
       "      <td>4384.340548</td>\n",
       "      <td>4717.159399</td>\n",
       "      <td>45.348551</td>\n",
       "      <td>314.900727</td>\n",
       "    </tr>\n",
       "    <tr>\n",
       "      <th>std</th>\n",
       "      <td>269.910308</td>\n",
       "      <td>119.340689</td>\n",
       "      <td>64.909321</td>\n",
       "      <td>161.433335</td>\n",
       "      <td>46.643121</td>\n",
       "      <td>669.691510</td>\n",
       "      <td>381.856877</td>\n",
       "      <td>563.416483</td>\n",
       "      <td>3.851833</td>\n",
       "      <td>23.084304</td>\n",
       "    </tr>\n",
       "    <tr>\n",
       "      <th>min</th>\n",
       "      <td>3167.449951</td>\n",
       "      <td>967.950012</td>\n",
       "      <td>1541.699951</td>\n",
       "      <td>1045.900024</td>\n",
       "      <td>524.849976</td>\n",
       "      <td>2495.699951</td>\n",
       "      <td>3574.500000</td>\n",
       "      <td>3826.199951</td>\n",
       "      <td>39.900002</td>\n",
       "      <td>270.850006</td>\n",
       "    </tr>\n",
       "    <tr>\n",
       "      <th>10%</th>\n",
       "      <td>3197.200049</td>\n",
       "      <td>979.280005</td>\n",
       "      <td>1561.909961</td>\n",
       "      <td>1077.730005</td>\n",
       "      <td>538.149976</td>\n",
       "      <td>2555.180078</td>\n",
       "      <td>3737.020020</td>\n",
       "      <td>4199.080078</td>\n",
       "      <td>41.509999</td>\n",
       "      <td>288.890002</td>\n",
       "    </tr>\n",
       "    <tr>\n",
       "      <th>50%</th>\n",
       "      <td>3472.949951</td>\n",
       "      <td>1119.449951</td>\n",
       "      <td>1677.750000</td>\n",
       "      <td>1380.599976</td>\n",
       "      <td>615.500000</td>\n",
       "      <td>2925.699951</td>\n",
       "      <td>4512.250000</td>\n",
       "      <td>4487.100098</td>\n",
       "      <td>44.400002</td>\n",
       "      <td>313.450012</td>\n",
       "    </tr>\n",
       "    <tr>\n",
       "      <th>90%</th>\n",
       "      <td>3854.029980</td>\n",
       "      <td>1279.880029</td>\n",
       "      <td>1730.910010</td>\n",
       "      <td>1461.979956</td>\n",
       "      <td>668.670020</td>\n",
       "      <td>4236.119922</td>\n",
       "      <td>4764.349805</td>\n",
       "      <td>5676.699902</td>\n",
       "      <td>51.449998</td>\n",
       "      <td>350.339996</td>\n",
       "    </tr>\n",
       "    <tr>\n",
       "      <th>max</th>\n",
       "      <td>3954.550049</td>\n",
       "      <td>1358.199951</td>\n",
       "      <td>1763.849976</td>\n",
       "      <td>1521.500000</td>\n",
       "      <td>686.450012</td>\n",
       "      <td>4601.000000</td>\n",
       "      <td>4866.850098</td>\n",
       "      <td>5889.600098</td>\n",
       "      <td>54.599998</td>\n",
       "      <td>372.299988</td>\n",
       "    </tr>\n",
       "  </tbody>\n",
       "</table>\n",
       "</div>"
      ],
      "text/plain": [
       "Symbols       TCS.NS   HCLTECH.NS      INFY.NS     TECHM.NS    WIPRO.NS  \\\n",
       "count      69.000000    69.000000    69.000000    69.000000   69.000000   \n",
       "mean     3518.062312  1117.671011  1655.273190  1296.709420  611.323912   \n",
       "std       269.910308   119.340689    64.909321   161.433335   46.643121   \n",
       "min      3167.449951   967.950012  1541.699951  1045.900024  524.849976   \n",
       "10%      3197.200049   979.280005  1561.909961  1077.730005  538.149976   \n",
       "50%      3472.949951  1119.449951  1677.750000  1380.599976  615.500000   \n",
       "90%      3854.029980  1279.880029  1730.910010  1461.979956  668.670020   \n",
       "max      3954.550049  1358.199951  1763.849976  1521.500000  686.450012   \n",
       "\n",
       "Symbols  MINDTREE.NS      OFSS.NS  TATAELXSI.NS  INFIBEAM.NS  NIITLTD.NS  \n",
       "count      69.000000    69.000000     69.000000    69.000000   69.000000  \n",
       "mean     3302.867396  4384.340548   4717.159399    45.348551  314.900727  \n",
       "std       669.691510   381.856877    563.416483     3.851833   23.084304  \n",
       "min      2495.699951  3574.500000   3826.199951    39.900002  270.850006  \n",
       "10%      2555.180078  3737.020020   4199.080078    41.509999  288.890002  \n",
       "50%      2925.699951  4512.250000   4487.100098    44.400002  313.450012  \n",
       "90%      4236.119922  4764.349805   5676.699902    51.449998  350.339996  \n",
       "max      4601.000000  4866.850098   5889.600098    54.599998  372.299988  "
      ]
     },
     "execution_count": 79,
     "metadata": {},
     "output_type": "execute_result"
    }
   ],
   "source": [
    "Close[Close.index > end - dt.timedelta(days=100)].describe(percentiles=[0.1,0.5,0.9])"
   ]
  },
  {
   "cell_type": "code",
   "execution_count": 80,
   "id": "ffe80247",
   "metadata": {},
   "outputs": [
    {
     "data": {
      "text/plain": [
       "<AxesSubplot:xlabel='Date'>"
      ]
     },
     "execution_count": 80,
     "metadata": {},
     "output_type": "execute_result"
    },
    {
     "data": {
      "image/png": "[encoded data removed]",
      "text/plain": [
       "<Figure size 864x576 with 1 Axes>"
      ]
     },
     "metadata": {
      "needs_background": "light"
     },
     "output_type": "display_data"
    }
   ],
   "source": [
    "Close.plot(figsize=(12,8))"
   ]
  },
  {
   "cell_type": "code",
   "execution_count": 81,
   "id": "f3eb4820",
   "metadata": {},
   "outputs": [
    {
     "data": {
      "text/html": [
       "<div>\n",
       "<style scoped>\n",
       "    .dataframe tbody tr th:only-of-type {\n",
       "        vertical-align: middle;\n",
       "    }\n",
       "\n",
       "    .dataframe tbody tr th {\n",
       "        vertical-align: top;\n",
       "    }\n",
       "\n",
       "    .dataframe thead th {\n",
       "        text-align: right;\n",
       "    }\n",
       "</style>\n",
       "<table border=\"1\" class=\"dataframe\">\n",
       "  <thead>\n",
       "    <tr style=\"text-align: right;\">\n",
       "      <th>Symbols</th>\n",
       "      <th>TCS.NS</th>\n",
       "      <th>HCLTECH.NS</th>\n",
       "      <th>INFY.NS</th>\n",
       "      <th>TECHM.NS</th>\n",
       "      <th>WIPRO.NS</th>\n",
       "      <th>MINDTREE.NS</th>\n",
       "      <th>OFSS.NS</th>\n",
       "      <th>TATAELXSI.NS</th>\n",
       "      <th>INFIBEAM.NS</th>\n",
       "      <th>NIITLTD.NS</th>\n",
       "    </tr>\n",
       "    <tr>\n",
       "      <th>Date</th>\n",
       "      <th></th>\n",
       "      <th></th>\n",
       "      <th></th>\n",
       "      <th></th>\n",
       "      <th></th>\n",
       "      <th></th>\n",
       "      <th></th>\n",
       "      <th></th>\n",
       "      <th></th>\n",
       "      <th></th>\n",
       "    </tr>\n",
       "  </thead>\n",
       "  <tbody>\n",
       "    <tr>\n",
       "      <th>2020-10-05</th>\n",
       "      <td>2670.277344</td>\n",
       "      <td>803.437439</td>\n",
       "      <td>1026.477295</td>\n",
       "      <td>803.973450</td>\n",
       "      <td>333.200897</td>\n",
       "      <td>1333.093018</td>\n",
       "      <td>2860.387451</td>\n",
       "      <td>1338.188965</td>\n",
       "      <td>32.862087</td>\n",
       "      <td>135.971725</td>\n",
       "    </tr>\n",
       "    <tr>\n",
       "      <th>2020-10-06</th>\n",
       "      <td>2678.666016</td>\n",
       "      <td>808.262756</td>\n",
       "      <td>1033.377808</td>\n",
       "      <td>809.850952</td>\n",
       "      <td>329.309631</td>\n",
       "      <td>1355.320312</td>\n",
       "      <td>2869.656738</td>\n",
       "      <td>1383.896484</td>\n",
       "      <td>34.487480</td>\n",
       "      <td>134.831619</td>\n",
       "    </tr>\n",
       "    <tr>\n",
       "      <th>2020-10-07</th>\n",
       "      <td>2700.031738</td>\n",
       "      <td>807.190491</td>\n",
       "      <td>1043.949097</td>\n",
       "      <td>808.847473</td>\n",
       "      <td>334.547852</td>\n",
       "      <td>1371.373291</td>\n",
       "      <td>2845.017090</td>\n",
       "      <td>1372.320557</td>\n",
       "      <td>36.196224</td>\n",
       "      <td>132.600952</td>\n",
       "    </tr>\n",
       "    <tr>\n",
       "      <th>2020-10-08</th>\n",
       "      <td>2788.603271</td>\n",
       "      <td>828.148804</td>\n",
       "      <td>1070.523560</td>\n",
       "      <td>822.179321</td>\n",
       "      <td>358.643707</td>\n",
       "      <td>1443.439087</td>\n",
       "      <td>2893.918213</td>\n",
       "      <td>1392.541138</td>\n",
       "      <td>35.654427</td>\n",
       "      <td>134.534195</td>\n",
       "    </tr>\n",
       "    <tr>\n",
       "      <th>2020-10-09</th>\n",
       "      <td>2776.020508</td>\n",
       "      <td>834.192627</td>\n",
       "      <td>1083.346191</td>\n",
       "      <td>816.301880</td>\n",
       "      <td>373.161072</td>\n",
       "      <td>1486.016724</td>\n",
       "      <td>2907.349609</td>\n",
       "      <td>1385.188354</td>\n",
       "      <td>36.654667</td>\n",
       "      <td>130.568558</td>\n",
       "    </tr>\n",
       "  </tbody>\n",
       "</table>\n",
       "</div>"
      ],
      "text/plain": [
       "Symbols          TCS.NS  HCLTECH.NS      INFY.NS    TECHM.NS    WIPRO.NS  \\\n",
       "Date                                                                       \n",
       "2020-10-05  2670.277344  803.437439  1026.477295  803.973450  333.200897   \n",
       "2020-10-06  2678.666016  808.262756  1033.377808  809.850952  329.309631   \n",
       "2020-10-07  2700.031738  807.190491  1043.949097  808.847473  334.547852   \n",
       "2020-10-08  2788.603271  828.148804  1070.523560  822.179321  358.643707   \n",
       "2020-10-09  2776.020508  834.192627  1083.346191  816.301880  373.161072   \n",
       "\n",
       "Symbols     MINDTREE.NS      OFSS.NS  TATAELXSI.NS  INFIBEAM.NS  NIITLTD.NS  \n",
       "Date                                                                         \n",
       "2020-10-05  1333.093018  2860.387451   1338.188965    32.862087  135.971725  \n",
       "2020-10-06  1355.320312  2869.656738   1383.896484    34.487480  134.831619  \n",
       "2020-10-07  1371.373291  2845.017090   1372.320557    36.196224  132.600952  \n",
       "2020-10-08  1443.439087  2893.918213   1392.541138    35.654427  134.534195  \n",
       "2020-10-09  1486.016724  2907.349609   1385.188354    36.654667  130.568558  "
      ]
     },
     "execution_count": 81,
     "metadata": {},
     "output_type": "execute_result"
    }
   ],
   "source": [
    "Adj = df['Adj Close']\n",
    "Adj.head()"
   ]
  },
  {
   "cell_type": "code",
   "execution_count": 82,
   "id": "b88855f6",
   "metadata": {},
   "outputs": [
    {
     "name": "stdout",
     "output_type": "stream",
     "text": [
      "Symbols\n",
      "TCS.NS          0.001546\n",
      "HCLTECH.NS      0.002099\n",
      "INFY.NS         0.002111\n",
      "TECHM.NS        0.002437\n",
      "WIPRO.NS        0.002849\n",
      "MINDTREE.NS     0.004972\n",
      "OFSS.NS         0.002156\n",
      "TATAELXSI.NS    0.006314\n",
      "INFIBEAM.NS     0.001663\n",
      "NIITLTD.NS      0.004446\n",
      "dtype: float64\n"
     ]
    }
   ],
   "source": [
    "daily_returns = df['Adj Close'].pct_change().mean()\n",
    "print(daily_returns)\n",
    "# multpl_stock_yearly_returns = df['Adj Close'].resample('Y').ffill().pct_change()"
   ]
  },
  {
   "cell_type": "code",
   "execution_count": 83,
   "id": "0fa43b5c",
   "metadata": {},
   "outputs": [
    {
     "ename": "NameError",
     "evalue": "name 'return_stocks' is not defined",
     "output_type": "error",
     "traceback": [
      "\u001b[1;31m---------------------------------------------------------------------------\u001b[0m",
      "\u001b[1;31mNameError\u001b[0m                                 Traceback (most recent call last)",
      "\u001b[1;32m~\\AppData\\Local\\Temp/ipykernel_16368/669131140.py\u001b[0m in \u001b[0;36m<module>\u001b[1;34m\u001b[0m\n\u001b[1;32m----> 1\u001b[1;33m \u001b[0mdaily_returns_portfolio_mean\u001b[0m \u001b[1;33m=\u001b[0m \u001b[0mreturn_stocks\u001b[0m\u001b[1;33m.\u001b[0m\u001b[0mmean\u001b[0m\u001b[1;33m(\u001b[0m\u001b[1;33m)\u001b[0m\u001b[1;33m\u001b[0m\u001b[1;33m\u001b[0m\u001b[0m\n\u001b[0m\u001b[0;32m      2\u001b[0m \u001b[0mprint\u001b[0m\u001b[1;33m(\u001b[0m\u001b[0mdaily_returns_portfolio_mean\u001b[0m\u001b[1;33m)\u001b[0m\u001b[1;33m\u001b[0m\u001b[1;33m\u001b[0m\u001b[0m\n",
      "\u001b[1;31mNameError\u001b[0m: name 'return_stocks' is not defined"
     ]
    }
   ],
   "source": [
    "daily_returns_portfolio_mean = return_stocks.mean()\n",
    "print(daily_returns_portfolio_mean)"
   ]
  },
  {
   "cell_type": "code",
   "execution_count": null,
   "id": "99545f46",
   "metadata": {},
   "outputs": [],
   "source": [
    "fig = plt.figure()\n",
    "(multpl_stock_monthly_returns + 1).cumprod().plot()\n",
    "plt.show()"
   ]
  },
  {
   "cell_type": "code",
   "execution_count": null,
   "id": "1e2539f3",
   "metadata": {},
   "outputs": [],
   "source": [
    "print(multpl_stock_monthly_returns.mean())\n",
    "## Symbols"
   ]
  },
  {
   "cell_type": "code",
   "execution_count": null,
   "id": "a091e24e",
   "metadata": {},
   "outputs": [],
   "source": [
    "print(multpl_stock_monthly_returns.std())"
   ]
  },
  {
   "cell_type": "code",
   "execution_count": null,
   "id": "53ed3206",
   "metadata": {},
   "outputs": [],
   "source": [
    "print(multpl_stock_monthly_returns.corr())"
   ]
  },
  {
   "cell_type": "code",
   "execution_count": null,
   "id": "bc0e43ae",
   "metadata": {},
   "outputs": [],
   "source": [
    "print(multpl_stock_monthly_returns.cov())"
   ]
  },
  {
   "cell_type": "code",
   "execution_count": null,
   "id": "beb9439a",
   "metadata": {},
   "outputs": [],
   "source": [
    "rets_df = Adj.pct_change()\n",
    "\n",
    "rets_df.tail()"
   ]
  },
  {
   "cell_type": "code",
   "execution_count": null,
   "id": "388dcfcd",
   "metadata": {},
   "outputs": [],
   "source": [
    "sns.pairplot(rets_df.dropna())"
   ]
  },
  {
   "cell_type": "code",
   "execution_count": null,
   "id": "772fcbd6",
   "metadata": {},
   "outputs": [],
   "source": [
    "sns.heatmap(rets_df.corr(), cmap=\"YlGnBu\",annot=True)"
   ]
  },
  {
   "cell_type": "code",
   "execution_count": null,
   "id": "bbcdc918",
   "metadata": {},
   "outputs": [],
   "source": [
    "rets = rets_df.dropna()\n",
    "plt.figure(figsize=(15,8))\n",
    "\n",
    "plt.scatter(rets.mean(),rets.std(),s=25)\n",
    "\n",
    "plt.xlabel('Expected Return')\n",
    "plt.ylabel('Risk')\n",
    "\n",
    "\n",
    "#For adding annotatios in the scatterplot\n",
    "for label,x,y in zip(rets.columns,rets.mean(),rets.std()):\n",
    "    plt.annotate(\n",
    "    label,\n",
    "    xy=(x,y),xytext=(0,0),\n",
    "    textcoords = 'offset points', ha = 'right', va = 'bottom',\n",
    "    )"
   ]
  },
  {
   "cell_type": "code",
   "execution_count": null,
   "id": "81c1b915",
   "metadata": {},
   "outputs": [],
   "source": [
    "rets.std()"
   ]
  },
  {
   "cell_type": "code",
   "execution_count": null,
   "id": "e5859331",
   "metadata": {},
   "outputs": [],
   "source": [
    "rets['TCS.NS'].quantile(0.05)"
   ]
  },
  {
   "cell_type": "code",
   "execution_count": null,
   "id": "e619bab5",
   "metadata": {},
   "outputs": [],
   "source": [
    "# This means that with 95% confidence, the worst daily loss will not exceed 1.96% (of the investment)."
   ]
  },
  {
   "cell_type": "code",
   "execution_count": null,
   "id": "0d461ef6",
   "metadata": {},
   "outputs": [],
   "source": [
    "days = 365\n",
    "\n",
    "#delta t\n",
    "dt = 1/365\n",
    "\n",
    "mu = rets.mean()['TCS.NS']\n",
    "\n",
    "sigma = rets.std()['TCS.NS']"
   ]
  },
  {
   "cell_type": "code",
   "execution_count": null,
   "id": "815cf238",
   "metadata": {},
   "outputs": [],
   "source": [
    "#Function takes in stock price, number of days to run, mean and standard deviation values\n",
    "def stock_monte_carlo(start_price,days,mu,sigma):\n",
    "    \n",
    "    price = np.zeros(days)\n",
    "    price[0] = start_price\n",
    "    \n",
    "    shock = np.zeros(days)\n",
    "    drift = np.zeros(days)\n",
    "    \n",
    "    for x in range(1,days):\n",
    "        \n",
    "        #Shock and drift formulas taken from the Monte Carlo formula\n",
    "        shock[x] = np.random.normal(loc=mu*dt,scale=sigma*np.sqrt(dt))\n",
    "        \n",
    "        drift[x] = mu * dt\n",
    "        \n",
    "        #New price = Old price + Old price*(shock+drift)\n",
    "        price[x] = price[x-1] + (price[x-1] * (drift[x]+shock[x]))\n",
    "        \n",
    "    return price"
   ]
  },
  {
   "cell_type": "code",
   "execution_count": null,
   "id": "dd408d55",
   "metadata": {},
   "outputs": [],
   "source": [
    "df.head()['Open']"
   ]
  },
  {
   "cell_type": "code",
   "execution_count": null,
   "id": "03003ca4",
   "metadata": {},
   "outputs": [],
   "source": [
    "start_price = 2620.0 #Taken from above\n",
    "\n",
    "for run in range(100):\n",
    "    plt.plot(stock_monte_carlo(start_price,days,mu,sigma))\n",
    "\n",
    "plt.xlabel('Days')\n",
    "plt.ylabel('Price')\n",
    "plt.title('Monte Carlo Analysis for TCS')"
   ]
  },
  {
   "cell_type": "code",
   "execution_count": null,
   "id": "ac7782bc",
   "metadata": {},
   "outputs": [],
   "source": [
    "runs = 10000\n",
    "\n",
    "simulations = np.zeros(runs)\n",
    "\n",
    "for run in range(runs):\n",
    "    simulations[run] = stock_monte_carlo(start_price,days,mu,sigma)[days-1]"
   ]
  },
  {
   "cell_type": "code",
   "execution_count": null,
   "id": "6b797273",
   "metadata": {},
   "outputs": [],
   "source": [
    "q = np.percentile(simulations,1)\n",
    "\n",
    "plt.hist(simulations,bins=200)\n",
    "\n",
    "plt.figtext(0.6,0.8,s=\"Start price: Rs%.2f\" %start_price)\n",
    "\n",
    "plt.figtext(0.6,0.7,\"Mean final price: Rs%.2f\" % simulations.mean())\n",
    "\n",
    "plt.figtext(0.6,0.6,\"VaR(0.99): Rs%.2f\" % (start_price -q,))\n",
    "\n",
    "plt.figtext(0.15,0.6, \"q(0.99): Rs%.2f\" % q)\n",
    "\n",
    "plt.axvline(x=q, linewidth=4, color='r')\n",
    "\n",
    "plt.title(u\"Final price distribution for TCS Stock after %s days\" %days, weight='bold')"
   ]
  },
  {
   "cell_type": "code",
   "execution_count": null,
   "id": "c49c616a",
   "metadata": {},
   "outputs": [],
   "source": [
    "# TCS's stock is pretty stable. \n",
    "# The starting price that we had was INR2620.00, and the average final price over 10,000 runs was INR2628.21.\n",
    "# The red line indicates the value of stock at risk at the desired confidence interval. \n",
    "# For every stock, we'd be risking INR70.51, 99% of the time."
   ]
  },
  {
   "cell_type": "code",
   "execution_count": null,
   "id": "666d9ddf",
   "metadata": {},
   "outputs": [],
   "source": []
  },
  {
   "cell_type": "code",
   "execution_count": null,
   "id": "2d5b1683",
   "metadata": {},
   "outputs": [],
   "source": []
  }
 ],
 "metadata": {
  "kernelspec": {
   "display_name": "Python 3 (ipykernel)",
   "language": "python",
   "name": "python3"
  },
  "language_info": {
   "codemirror_mode": {
    "name": "ipython",
    "version": 3
   },
   "file_extension": ".py",
   "mimetype": "text/x-python",
   "name": "python",
   "nbconvert_exporter": "python",
   "pygments_lexer": "ipython3",
   "version": "3.9.7"
  }
 },
 "nbformat": 4,
 "nbformat_minor": 5
}
