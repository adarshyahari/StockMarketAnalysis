{
 "cells": [
  {
   "cell_type": "code",
   "execution_count": 1,
   "id": "86c99d25",
   "metadata": {},
   "outputs": [
    {
     "ename": "ModuleNotFoundError",
     "evalue": "No module named 'pandas_datareader'",
     "output_type": "error",
     "traceback": [
      "\u001b[1;31m---------------------------------------------------------------------------\u001b[0m",
      "\u001b[1;31mModuleNotFoundError\u001b[0m                       Traceback (most recent call last)",
      "\u001b[1;32m~\\AppData\\Local\\Temp/ipykernel_7708/2671867341.py\u001b[0m in \u001b[0;36m<module>\u001b[1;34m\u001b[0m\n\u001b[1;32m----> 1\u001b[1;33m \u001b[1;32mimport\u001b[0m \u001b[0mpandas_datareader\u001b[0m\u001b[1;33m.\u001b[0m\u001b[0mdata\u001b[0m \u001b[1;32mas\u001b[0m \u001b[0mweb\u001b[0m\u001b[1;33m\u001b[0m\u001b[1;33m\u001b[0m\u001b[0m\n\u001b[0m\u001b[0;32m      2\u001b[0m \u001b[1;32mimport\u001b[0m \u001b[0mdatetime\u001b[0m\u001b[1;33m\u001b[0m\u001b[1;33m\u001b[0m\u001b[0m\n",
      "\u001b[1;31mModuleNotFoundError\u001b[0m: No module named 'pandas_datareader'"
     ]
    }
   ],
   "source": [
    "import pandas_datareader.data as web\n",
    "import datetime"
   ]
  },
  {
   "cell_type": "code",
   "execution_count": 6,
   "id": "aad82cd0",
   "metadata": {},
   "outputs": [
    {
     "ename": "ModuleNotFoundError",
     "evalue": "No module named 'matplotlib'",
     "output_type": "error",
     "traceback": [
      "\u001b[1;31m---------------------------------------------------------------------------\u001b[0m",
      "\u001b[1;31mModuleNotFoundError\u001b[0m                       Traceback (most recent call last)",
      "\u001b[1;32m~\\AppData\\Local\\Temp/ipykernel_3680/3844736152.py\u001b[0m in \u001b[0;36m<module>\u001b[1;34m\u001b[0m\n\u001b[0;32m      1\u001b[0m \u001b[1;32mimport\u001b[0m \u001b[0mpandas_datareader\u001b[0m\u001b[1;33m.\u001b[0m\u001b[0mdata\u001b[0m \u001b[1;32mas\u001b[0m \u001b[0mweb\u001b[0m\u001b[1;33m\u001b[0m\u001b[1;33m\u001b[0m\u001b[0m\n\u001b[0;32m      2\u001b[0m \u001b[1;32mimport\u001b[0m \u001b[0mdatetime\u001b[0m\u001b[1;33m\u001b[0m\u001b[1;33m\u001b[0m\u001b[0m\n\u001b[1;32m----> 3\u001b[1;33m \u001b[1;32mimport\u001b[0m \u001b[0mmatplotlib\u001b[0m\u001b[1;33m.\u001b[0m\u001b[0mpyplot\u001b[0m \u001b[1;32mas\u001b[0m \u001b[0mplt\u001b[0m\u001b[1;33m\u001b[0m\u001b[1;33m\u001b[0m\u001b[0m\n\u001b[0m",
      "\u001b[1;31mModuleNotFoundError\u001b[0m: No module named 'matplotlib'"
     ]
    }
   ],
   "source": [
    "import pandas_datareader.data as web\n",
    "import datetime\n",
    "import matplotlib.pyplot as plt"
   ]
  },
  {
   "cell_type": "code",
   "execution_count": 1,
   "id": "9ccd4c51-0e76-40dc-b1c2-577cb9e6309a",
   "metadata": {},
   "outputs": [],
   "source": [
    "import pandas_datareader.data as web\n",
    "import datetime"
   ]
  },
  {
   "cell_type": "code",
   "execution_count": 2,
   "id": "dc476b15",
   "metadata": {},
   "outputs": [],
   "source": [
    "start = datetime.datetime(2020,1,1)\n",
    "end = datetime.datetime(2021,8,31)"
   ]
  },
  {
   "cell_type": "code",
   "execution_count": 3,
   "id": "03441666",
   "metadata": {},
   "outputs": [],
   "source": [
    "google = web.DataReader(\"GOOGL\", 'yahoo', start, end)"
   ]
  },
  {
   "cell_type": "code",
   "execution_count": 4,
   "id": "22624098",
   "metadata": {},
   "outputs": [
    {
     "data": {
      "text/html": [
       "<div>\n",
       "<style scoped>\n",
       "    .dataframe tbody tr th:only-of-type {\n",
       "        vertical-align: middle;\n",
       "    }\n",
       "\n",
       "    .dataframe tbody tr th {\n",
       "        vertical-align: top;\n",
       "    }\n",
       "\n",
       "    .dataframe thead th {\n",
       "        text-align: right;\n",
       "    }\n",
       "</style>\n",
       "<table border=\"1\" class=\"dataframe\">\n",
       "  <thead>\n",
       "    <tr style=\"text-align: right;\">\n",
       "      <th></th>\n",
       "      <th>High</th>\n",
       "      <th>Low</th>\n",
       "      <th>Open</th>\n",
       "      <th>Close</th>\n",
       "      <th>Volume</th>\n",
       "      <th>Adj Close</th>\n",
       "    </tr>\n",
       "    <tr>\n",
       "      <th>Date</th>\n",
       "      <th></th>\n",
       "      <th></th>\n",
       "      <th></th>\n",
       "      <th></th>\n",
       "      <th></th>\n",
       "      <th></th>\n",
       "    </tr>\n",
       "  </thead>\n",
       "  <tbody>\n",
       "    <tr>\n",
       "      <th>2019-12-31</th>\n",
       "      <td>1340.660034</td>\n",
       "      <td>1332.130005</td>\n",
       "      <td>1335.790039</td>\n",
       "      <td>1339.390015</td>\n",
       "      <td>975700</td>\n",
       "      <td>1339.390015</td>\n",
       "    </tr>\n",
       "    <tr>\n",
       "      <th>2020-01-02</th>\n",
       "      <td>1368.680054</td>\n",
       "      <td>1346.489990</td>\n",
       "      <td>1348.410034</td>\n",
       "      <td>1368.680054</td>\n",
       "      <td>1363900</td>\n",
       "      <td>1368.680054</td>\n",
       "    </tr>\n",
       "    <tr>\n",
       "      <th>2020-01-03</th>\n",
       "      <td>1373.750000</td>\n",
       "      <td>1347.319946</td>\n",
       "      <td>1348.000000</td>\n",
       "      <td>1361.520020</td>\n",
       "      <td>1170400</td>\n",
       "      <td>1361.520020</td>\n",
       "    </tr>\n",
       "    <tr>\n",
       "      <th>2020-01-06</th>\n",
       "      <td>1398.319946</td>\n",
       "      <td>1351.000000</td>\n",
       "      <td>1351.630005</td>\n",
       "      <td>1397.810059</td>\n",
       "      <td>2338400</td>\n",
       "      <td>1397.810059</td>\n",
       "    </tr>\n",
       "    <tr>\n",
       "      <th>2020-01-07</th>\n",
       "      <td>1403.500000</td>\n",
       "      <td>1391.560059</td>\n",
       "      <td>1400.459961</td>\n",
       "      <td>1395.109985</td>\n",
       "      <td>1716500</td>\n",
       "      <td>1395.109985</td>\n",
       "    </tr>\n",
       "    <tr>\n",
       "      <th>...</th>\n",
       "      <td>...</td>\n",
       "      <td>...</td>\n",
       "      <td>...</td>\n",
       "      <td>...</td>\n",
       "      <td>...</td>\n",
       "      <td>...</td>\n",
       "    </tr>\n",
       "    <tr>\n",
       "      <th>2021-08-25</th>\n",
       "      <td>2843.790039</td>\n",
       "      <td>2827.520020</td>\n",
       "      <td>2832.500000</td>\n",
       "      <td>2841.580078</td>\n",
       "      <td>792400</td>\n",
       "      <td>2841.580078</td>\n",
       "    </tr>\n",
       "    <tr>\n",
       "      <th>2021-08-26</th>\n",
       "      <td>2848.350098</td>\n",
       "      <td>2827.139893</td>\n",
       "      <td>2835.000000</td>\n",
       "      <td>2828.810059</td>\n",
       "      <td>1030500</td>\n",
       "      <td>2828.810059</td>\n",
       "    </tr>\n",
       "    <tr>\n",
       "      <th>2021-08-27</th>\n",
       "      <td>2890.250000</td>\n",
       "      <td>2829.939941</td>\n",
       "      <td>2833.050049</td>\n",
       "      <td>2880.080078</td>\n",
       "      <td>1438600</td>\n",
       "      <td>2880.080078</td>\n",
       "    </tr>\n",
       "    <tr>\n",
       "      <th>2021-08-30</th>\n",
       "      <td>2919.409912</td>\n",
       "      <td>2883.260010</td>\n",
       "      <td>2888.000000</td>\n",
       "      <td>2891.810059</td>\n",
       "      <td>1221700</td>\n",
       "      <td>2891.810059</td>\n",
       "    </tr>\n",
       "    <tr>\n",
       "      <th>2021-08-31</th>\n",
       "      <td>2903.429932</td>\n",
       "      <td>2885.620117</td>\n",
       "      <td>2902.939941</td>\n",
       "      <td>2893.949951</td>\n",
       "      <td>1121700</td>\n",
       "      <td>2893.949951</td>\n",
       "    </tr>\n",
       "  </tbody>\n",
       "</table>\n",
       "<p>421 rows × 6 columns</p>\n",
       "</div>"
      ],
      "text/plain": [
       "                   High          Low         Open        Close   Volume  \\\n",
       "Date                                                                      \n",
       "2019-12-31  1340.660034  1332.130005  1335.790039  1339.390015   975700   \n",
       "2020-01-02  1368.680054  1346.489990  1348.410034  1368.680054  1363900   \n",
       "2020-01-03  1373.750000  1347.319946  1348.000000  1361.520020  1170400   \n",
       "2020-01-06  1398.319946  1351.000000  1351.630005  1397.810059  2338400   \n",
       "2020-01-07  1403.500000  1391.560059  1400.459961  1395.109985  1716500   \n",
       "...                 ...          ...          ...          ...      ...   \n",
       "2021-08-25  2843.790039  2827.520020  2832.500000  2841.580078   792400   \n",
       "2021-08-26  2848.350098  2827.139893  2835.000000  2828.810059  1030500   \n",
       "2021-08-27  2890.250000  2829.939941  2833.050049  2880.080078  1438600   \n",
       "2021-08-30  2919.409912  2883.260010  2888.000000  2891.810059  1221700   \n",
       "2021-08-31  2903.429932  2885.620117  2902.939941  2893.949951  1121700   \n",
       "\n",
       "              Adj Close  \n",
       "Date                     \n",
       "2019-12-31  1339.390015  \n",
       "2020-01-02  1368.680054  \n",
       "2020-01-03  1361.520020  \n",
       "2020-01-06  1397.810059  \n",
       "2020-01-07  1395.109985  \n",
       "...                 ...  \n",
       "2021-08-25  2841.580078  \n",
       "2021-08-26  2828.810059  \n",
       "2021-08-27  2880.080078  \n",
       "2021-08-30  2891.810059  \n",
       "2021-08-31  2893.949951  \n",
       "\n",
       "[421 rows x 6 columns]"
      ]
     },
     "execution_count": 4,
     "metadata": {},
     "output_type": "execute_result"
    }
   ],
   "source": [
    "google"
   ]
  },
  {
   "cell_type": "code",
   "execution_count": null,
   "id": "7eae2bfe",
   "metadata": {},
   "outputs": [],
   "source": [
    "google['Open']"
   ]
  }
 ],
 "metadata": {
  "kernelspec": {
   "display_name": "Python 3 (ipykernel)",
   "language": "python",
   "name": "python3"
  },
  "language_info": {
   "codemirror_mode": {
    "name": "ipython",
    "version": 3
   },
   "file_extension": ".py",
   "mimetype": "text/x-python",
   "name": "python",
   "nbconvert_exporter": "python",
   "pygments_lexer": "ipython3",
   "version": "3.9.7"
  }
 },
 "nbformat": 4,
 "nbformat_minor": 5
}
