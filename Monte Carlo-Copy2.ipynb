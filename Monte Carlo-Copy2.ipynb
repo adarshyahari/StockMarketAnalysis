{
 "cells": [
  {
   "cell_type": "code",
   "execution_count": 60,
   "id": "aa529e18",
   "metadata": {},
   "outputs": [],
   "source": [
    "from __future__ import division\n",
    "\n",
    "import pandas as pd\n",
    "from pandas import Series,DataFrame\n",
    "import numpy as np\n",
    "\n",
    "#Visualisation imports\n",
    "import matplotlib.pyplot as plt\n",
    "import seaborn as sns\n",
    "sns.set_style('whitegrid')\n",
    "%matplotlib inline\n",
    "import pandas_datareader as pdr\n",
    "pdr.get_data_fred('GS10')\n",
    "#To grab stock data\n",
    "from pandas_datareader import data, wb\n",
    "import pandas_datareader.data as web\n",
    "import datetime as dt"
   ]
  },
  {
   "cell_type": "code",
   "execution_count": 61,
   "id": "03441666",
   "metadata": {},
   "outputs": [],
   "source": [
    "#Setting the end date to today\n",
    "end = dt.datetime.now()\n",
    "#Start date set to 1 year back\n",
    "start = dt.datetime(end.year-1,end.month,end.day)"
   ]
  },
  {
   "cell_type": "code",
   "execution_count": null,
   "id": "3671e8d0",
   "metadata": {},
   "outputs": [],
   "source": [
    "stocks = ['TCS.NS','WIPRO.NS','INFY.NS','PERSISTENT.NS','COFORGE.NS','LT.NS','TECHM.NS','MPHASIS.NS','HCLTECH.NS','OFSS.NS']\n",
    "#Using Yahoo Finance to grab the stock data\n",
    "for stock in stocks:\n",
    "    globals()[stock] =  web.DataReader(stock,'yahoo',start,end) #The globals method sets the stock name to a global variable"
   ]
  },
  {
   "cell_type": "code",
   "execution_count": null,
   "id": "0d6310d5",
   "metadata": {},
   "outputs": [],
   "source": [
    "y = np.array([(9/10)*100, (1/10)*100])\n",
    "mylabels = [\"IT Services & Consulting\", \"Software Services\"]\n",
    "myexplode = [0.4, 0]\n",
    "\n",
    "plt.pie(y, labels = mylabels, explode = myexplode, shadow = True)\n",
    "plt.show() "
   ]
  },
  {
   "cell_type": "markdown",
   "id": "84669ae7",
   "metadata": {},
   "source": [
    "# Detailed Analysis of TCS stock"
   ]
  },
  {
   "cell_type": "code",
   "execution_count": null,
   "id": "eec9794f",
   "metadata": {},
   "outputs": [],
   "source": [
    "TCS = web.DataReader('TCS.NS','yahoo',start,end)"
   ]
  },
  {
   "cell_type": "code",
   "execution_count": null,
   "id": "479a3a69",
   "metadata": {},
   "outputs": [],
   "source": [
    "TCS.describe()"
   ]
  },
  {
   "cell_type": "code",
   "execution_count": null,
   "id": "2200f31c",
   "metadata": {},
   "outputs": [],
   "source": [
    "TCS['Adj Close'].plot(legend=True,figsize=(12,8))"
   ]
  },
  {
   "cell_type": "code",
   "execution_count": null,
   "id": "a1187f25",
   "metadata": {},
   "outputs": [],
   "source": [
    "TCS['Volume'].plot(legend=True,figsize=(12,8))"
   ]
  },
  {
   "cell_type": "code",
   "execution_count": null,
   "id": "5c570dc3",
   "metadata": {},
   "outputs": [],
   "source": [
    "ma_day = [10,20,50]\n",
    "\n",
    "for ma in ma_day:\n",
    "    column_name = \"MA for %s days\" %(str(ma))\n",
    "    \n",
    "    TCS[column_name] = TCS['Adj Close'].rolling(window=ma,center=False).mean()\n",
    "    \n",
    "TCS[['Adj Close','MA for 10 days','MA for 20 days','MA for 50 days']].plot(subplots=False,figsize=(12,8))"
   ]
  },
  {
   "cell_type": "code",
   "execution_count": null,
   "id": "89932734",
   "metadata": {},
   "outputs": [],
   "source": [
    "#The daily return column can be created by using the percentage change over the adjusted closing price\n",
    "TCS['Daily Return'] = TCS['Adj Close'].pct_change()\n",
    "TCS['Daily Return']"
   ]
  },
  {
   "cell_type": "code",
   "execution_count": null,
   "id": "19055d6d",
   "metadata": {},
   "outputs": [],
   "source": [
    "TCS['Daily Return'].plot(figsize=(14,5),legend=True,linestyle='--',marker='o')"
   ]
  },
  {
   "cell_type": "code",
   "execution_count": null,
   "id": "f1343186",
   "metadata": {},
   "outputs": [],
   "source": [
    "sns.distplot(TCS['Daily Return'].dropna(),bins=100,color='red')"
   ]
  },
  {
   "cell_type": "markdown",
   "id": "e1cebf8f",
   "metadata": {},
   "source": [
    "# Closing Prices of IT stocks over time"
   ]
  },
  {
   "cell_type": "code",
   "execution_count": null,
   "id": "1a49d867",
   "metadata": {},
   "outputs": [],
   "source": [
    "Close = df.Close()\n",
    "Close.plot(figsize=(12,8))"
   ]
  },
  {
   "cell_type": "markdown",
   "id": "d39a21d3",
   "metadata": {},
   "source": [
    "From the graph, it can be inferred that we've taken into account stocks that are from low, mid, and large cap"
   ]
  },
  {
   "cell_type": "code",
   "execution_count": null,
   "id": "68f98adf",
   "metadata": {},
   "outputs": [],
   "source": [
    "Open=df.Open\n",
    "Volume=df.Volume\n",
    "MarketCap = Open*Volume\n",
    "MarketCap.plot(figsize=(16,8))\n",
    "plt.title('Market Cap')\n",
    "plt.legend()"
   ]
  },
  {
   "cell_type": "code",
   "execution_count": null,
   "id": "ade7e139",
   "metadata": {},
   "outputs": [],
   "source": [
    "m=[]\n",
    "open_df_now = web.DataReader(stocks,'yahoo','2021-10-05','2021-10-05')['Open']\n",
    "vol_df_now = web.DataReader(stocks,'yahoo','2021-10-05','2021-10-05')['Volume']\n",
    "for stock in stocks:\n",
    "    m.append(open_df_now[stock]*vol_df_now[stock])\n",
    "print(m)"
   ]
  },
  {
   "cell_type": "markdown",
   "id": "2ae0feca",
   "metadata": {},
   "source": [
    "# Correlation between pool of stocks"
   ]
  },
  {
   "cell_type": "code",
   "execution_count": null,
   "id": "ed877285",
   "metadata": {},
   "outputs": [],
   "source": [
    "close_df = web.DataReader(stocks,'yahoo',start,end)['Adj Close']\n",
    "rets_df = close_df.pct_change()\n",
    "sns.heatmap(rets_df.corr(), cmap=\"YlGnBu\",annot=True)"
   ]
  },
  {
   "cell_type": "markdown",
   "id": "2a620b21",
   "metadata": {},
   "source": [
    "# Expected Return vs. Risk"
   ]
  },
  {
   "cell_type": "code",
   "execution_count": null,
   "id": "677c8f55",
   "metadata": {},
   "outputs": [],
   "source": [
    "rets = rets_df.dropna()\n",
    "plt.figure(figsize=(8,5))\n",
    "\n",
    "plt.scatter(rets.mean(),rets.std(),s=25)\n",
    "\n",
    "plt.xlabel('Expected Return')\n",
    "plt.ylabel('Risk')\n",
    "\n",
    "\n",
    "#For adding annotatios in the scatterplot\n",
    "for label,x,y in zip(rets.columns,rets.mean(),rets.std()):\n",
    "    plt.annotate(\n",
    "    label,\n",
    "    xy=(x,y),xytext=(0,0),\n",
    "    textcoords = 'offset points', ha = 'right', va = 'bottom',\n",
    "    )"
   ]
  },
  {
   "cell_type": "code",
   "execution_count": null,
   "id": "7548a63f",
   "metadata": {},
   "outputs": [],
   "source": [
    "rets['TCS.NS'].quantile(0.05)"
   ]
  },
  {
   "cell_type": "code",
   "execution_count": null,
   "id": "7241bfaa",
   "metadata": {},
   "outputs": [],
   "source": [
    "days = 365\n",
    "\n",
    "#delta t\n",
    "dt = 1/365\n",
    "\n",
    "mu = rets.mean()['TCS.NS']\n",
    "\n",
    "sigma = rets.std()['TCS.NS']\n",
    "\n",
    "#Function takes in stock price, number of days to run, mean and standard deviation values\n",
    "def stock_monte_carlo(start_price,days,mu,sigma):\n",
    "    \n",
    "    price = np.zeros(days)\n",
    "    price[0] = start_price\n",
    "    \n",
    "    shock = np.zeros(days)\n",
    "    drift = np.zeros(days)\n",
    "    \n",
    "    for x in range(1,days):\n",
    "        \n",
    "        #Shock and drift formulas taken from the Monte Carlo formula\n",
    "        shock[x] = np.random.normal(loc=mu*dt,scale=sigma*np.sqrt(dt))\n",
    "        \n",
    "        drift[x] = mu * dt\n",
    "        \n",
    "        #New price = Old price + Old price*(shock+drift)\n",
    "        price[x] = price[x-1] + (price[x-1] * (drift[x]+shock[x]))\n",
    "        \n",
    "    return price"
   ]
  },
  {
   "cell_type": "code",
   "execution_count": null,
   "id": "0ff1c29f",
   "metadata": {},
   "outputs": [],
   "source": [
    "TCS['Open'].head()"
   ]
  },
  {
   "cell_type": "code",
   "execution_count": null,
   "id": "f5a75afe",
   "metadata": {},
   "outputs": [],
   "source": [
    "start_price = 2736.0 #Taken from above\n",
    "\n",
    "for run in range(100):\n",
    "    plt.plot(stock_monte_carlo(start_price,days,mu,sigma))\n",
    "\n",
    "plt.xlabel('Days')\n",
    "plt.ylabel('Price')\n",
    "plt.title('Monte Carlo Analysis for TCS')"
   ]
  },
  {
   "cell_type": "code",
   "execution_count": null,
   "id": "658b55f8",
   "metadata": {},
   "outputs": [],
   "source": [
    "runs = 10000\n",
    "\n",
    "simulations = np.zeros(runs)\n",
    "\n",
    "for run in range(runs):\n",
    "    simulations[run] = stock_monte_carlo(start_price,days,mu,sigma)[days-1]\n",
    "    \n",
    "q = np.percentile(simulations,1)\n",
    "\n",
    "plt.hist(simulations,bins=200)\n",
    "\n",
    "plt.figtext(0.6,0.8,s=\"Start price: Rs%.2f\" %start_price)\n",
    "\n",
    "plt.figtext(0.6,0.7,\"Mean final price: Rs%.2f\" % simulations.mean())\n",
    "\n",
    "plt.figtext(0.6,0.6,\"VaR(0.99): Rs%.2f\" % (start_price -q,))\n",
    "\n",
    "plt.figtext(0.15,0.6, \"q(0.99): Rs%.2f\" % q)\n",
    "\n",
    "plt.axvline(x=q, linewidth=4, color='r')\n",
    "\n",
    "plt.title(u\"Final price distribution for TCS Stock after %s days\" %days, weight='bold')"
   ]
  },
  {
   "cell_type": "markdown",
   "id": "50330ee9",
   "metadata": {},
   "source": [
    "TCS's stock is pretty stable. \n",
    "The starting price that we had was INR2736.00, and the average final price over 10,000 runs was INR2744.53.\n",
    "The red line indicates the value of stock at risk at the desired confidence interval. \n",
    "For every stock, we'd be risking INR77.72, 99% of the time."
   ]
  },
  {
   "cell_type": "markdown",
   "id": "2bd6e150",
   "metadata": {},
   "source": [
    "# Risk"
   ]
  },
  {
   "cell_type": "code",
   "execution_count": 1,
   "id": "91be5820",
   "metadata": {},
   "outputs": [
    {
     "ename": "NameError",
     "evalue": "name 'np' is not defined",
     "output_type": "error",
     "traceback": [
      "\u001b[1;31m---------------------------------------------------------------------------\u001b[0m",
      "\u001b[1;31mNameError\u001b[0m                                 Traceback (most recent call last)",
      "\u001b[1;32m~\\AppData\\Local\\Temp/ipykernel_35256/2096226466.py\u001b[0m in \u001b[0;36m<module>\u001b[1;34m\u001b[0m\n\u001b[1;32m----> 1\u001b[1;33m \u001b[0minitial_weight\u001b[0m \u001b[1;33m=\u001b[0m \u001b[0mnp\u001b[0m\u001b[1;33m.\u001b[0m\u001b[0marray\u001b[0m\u001b[1;33m(\u001b[0m\u001b[1;33m[\u001b[0m\u001b[1;36m0.10\u001b[0m\u001b[1;33m,\u001b[0m\u001b[1;36m0.10\u001b[0m\u001b[1;33m,\u001b[0m\u001b[1;36m0.10\u001b[0m\u001b[1;33m,\u001b[0m\u001b[1;36m0.10\u001b[0m\u001b[1;33m,\u001b[0m\u001b[1;36m0.10\u001b[0m\u001b[1;33m,\u001b[0m\u001b[1;36m0.10\u001b[0m\u001b[1;33m,\u001b[0m\u001b[1;36m0.10\u001b[0m\u001b[1;33m,\u001b[0m\u001b[1;36m0.10\u001b[0m\u001b[1;33m,\u001b[0m\u001b[1;36m0.10\u001b[0m\u001b[1;33m,\u001b[0m\u001b[1;36m0.10\u001b[0m\u001b[1;33m]\u001b[0m\u001b[1;33m)\u001b[0m\u001b[1;33m\u001b[0m\u001b[1;33m\u001b[0m\u001b[0m\n\u001b[0m\u001b[0;32m      2\u001b[0m \u001b[1;33m\u001b[0m\u001b[0m\n\u001b[0;32m      3\u001b[0m \u001b[0mMean\u001b[0m \u001b[1;33m=\u001b[0m \u001b[0mdf\u001b[0m\u001b[1;33m[\u001b[0m\u001b[1;34m'Adj Close'\u001b[0m\u001b[1;33m]\u001b[0m\u001b[1;33m.\u001b[0m\u001b[0mpct_change\u001b[0m\u001b[1;33m(\u001b[0m\u001b[1;33m)\u001b[0m\u001b[1;33m.\u001b[0m\u001b[0mmean\u001b[0m\u001b[1;33m(\u001b[0m\u001b[1;33m)\u001b[0m\u001b[1;33m\u001b[0m\u001b[1;33m\u001b[0m\u001b[0m\n\u001b[0;32m      4\u001b[0m \u001b[0mallocated_daily_returns\u001b[0m \u001b[1;33m=\u001b[0m \u001b[1;33m(\u001b[0m\u001b[0minitial_weight\u001b[0m \u001b[1;33m*\u001b[0m \u001b[0mMean\u001b[0m\u001b[1;33m)\u001b[0m\u001b[1;33m\u001b[0m\u001b[1;33m\u001b[0m\u001b[0m\n\u001b[0;32m      5\u001b[0m \u001b[0mportfolio_return\u001b[0m \u001b[1;33m=\u001b[0m \u001b[0mnp\u001b[0m\u001b[1;33m.\u001b[0m\u001b[0msum\u001b[0m\u001b[1;33m(\u001b[0m\u001b[0mallocated_daily_returns\u001b[0m\u001b[1;33m)\u001b[0m\u001b[1;33m\u001b[0m\u001b[1;33m\u001b[0m\u001b[0m\n",
      "\u001b[1;31mNameError\u001b[0m: name 'np' is not defined"
     ]
    }
   ],
   "source": [
    "initial_weight = np.array([0.10,0.10,0.10,0.10,0.10,0.10,0.10,0.10,0.10,0.10])\n",
    "\n",
    "Mean = df['Adj Close'].pct_change().mean()\n",
    "allocated_daily_returns = (initial_weight * Mean)\n",
    "portfolio_return = np.sum(allocated_daily_returns)\n",
    "print(portfolio_return)\n",
    "return_stocks = df['Adj Close'].pct_change()\n",
    "return_stocks['portfolio_daily_returns'] = return_stocks.dot(initial_weight)\n",
    "return_stocks.head()\n"
   ]
  },
  {
   "cell_type": "code",
   "execution_count": 240,
   "id": "cddcd3f6",
   "metadata": {},
   "outputs": [
    {
     "data": {
      "text/html": [
       "<div>\n",
       "<style scoped>\n",
       "    .dataframe tbody tr th:only-of-type {\n",
       "        vertical-align: middle;\n",
       "    }\n",
       "\n",
       "    .dataframe tbody tr th {\n",
       "        vertical-align: top;\n",
       "    }\n",
       "\n",
       "    .dataframe thead th {\n",
       "        text-align: right;\n",
       "    }\n",
       "</style>\n",
       "<table border=\"1\" class=\"dataframe\">\n",
       "  <thead>\n",
       "    <tr style=\"text-align: right;\">\n",
       "      <th>Symbols</th>\n",
       "      <th>TCS.NS</th>\n",
       "      <th>HCLTECH.NS</th>\n",
       "      <th>INFY.NS</th>\n",
       "      <th>TECHM.NS</th>\n",
       "      <th>WIPRO.NS</th>\n",
       "      <th>MINDTREE.NS</th>\n",
       "      <th>OFSS.NS</th>\n",
       "      <th>TATAELXSI.NS</th>\n",
       "      <th>INFIBEAM.NS</th>\n",
       "      <th>NIITLTD.NS</th>\n",
       "      <th>portfolio_daily_returns</th>\n",
       "    </tr>\n",
       "    <tr>\n",
       "      <th>Date</th>\n",
       "      <th></th>\n",
       "      <th></th>\n",
       "      <th></th>\n",
       "      <th></th>\n",
       "      <th></th>\n",
       "      <th></th>\n",
       "      <th></th>\n",
       "      <th></th>\n",
       "      <th></th>\n",
       "      <th></th>\n",
       "      <th></th>\n",
       "    </tr>\n",
       "  </thead>\n",
       "  <tbody>\n",
       "    <tr>\n",
       "      <th>2021-09-29</th>\n",
       "      <td>1.420040</td>\n",
       "      <td>1.594648</td>\n",
       "      <td>1.648600</td>\n",
       "      <td>1.735567</td>\n",
       "      <td>1.923014</td>\n",
       "      <td>3.174497</td>\n",
       "      <td>1.584978</td>\n",
       "      <td>4.183079</td>\n",
       "      <td>1.275026</td>\n",
       "      <td>2.656802</td>\n",
       "      <td>2.074501</td>\n",
       "    </tr>\n",
       "    <tr>\n",
       "      <th>2021-09-30</th>\n",
       "      <td>1.413917</td>\n",
       "      <td>1.592595</td>\n",
       "      <td>1.631989</td>\n",
       "      <td>1.717221</td>\n",
       "      <td>1.903056</td>\n",
       "      <td>3.150643</td>\n",
       "      <td>1.592774</td>\n",
       "      <td>4.180314</td>\n",
       "      <td>1.258289</td>\n",
       "      <td>2.738069</td>\n",
       "      <td>2.074985</td>\n",
       "    </tr>\n",
       "    <tr>\n",
       "      <th>2021-10-01</th>\n",
       "      <td>1.396934</td>\n",
       "      <td>1.585375</td>\n",
       "      <td>1.622199</td>\n",
       "      <td>1.705591</td>\n",
       "      <td>1.909509</td>\n",
       "      <td>3.139016</td>\n",
       "      <td>1.577496</td>\n",
       "      <td>4.321363</td>\n",
       "      <td>1.270461</td>\n",
       "      <td>2.571490</td>\n",
       "      <td>2.054167</td>\n",
       "    </tr>\n",
       "    <tr>\n",
       "      <th>2021-10-04</th>\n",
       "      <td>1.413074</td>\n",
       "      <td>1.591474</td>\n",
       "      <td>1.635448</td>\n",
       "      <td>1.740169</td>\n",
       "      <td>1.923914</td>\n",
       "      <td>3.190325</td>\n",
       "      <td>1.615952</td>\n",
       "      <td>4.401172</td>\n",
       "      <td>1.323714</td>\n",
       "      <td>2.657538</td>\n",
       "      <td>2.094756</td>\n",
       "    </tr>\n",
       "    <tr>\n",
       "      <th>2021-10-05</th>\n",
       "      <td>1.435544</td>\n",
       "      <td>1.624458</td>\n",
       "      <td>1.649135</td>\n",
       "      <td>1.757583</td>\n",
       "      <td>1.941321</td>\n",
       "      <td>3.214404</td>\n",
       "      <td>1.644200</td>\n",
       "      <td>4.364219</td>\n",
       "      <td>1.323714</td>\n",
       "      <td>2.596863</td>\n",
       "      <td>2.103506</td>\n",
       "    </tr>\n",
       "  </tbody>\n",
       "</table>\n",
       "</div>"
      ],
      "text/plain": [
       "Symbols       TCS.NS  HCLTECH.NS   INFY.NS  TECHM.NS  WIPRO.NS  MINDTREE.NS  \\\n",
       "Date                                                                          \n",
       "2021-09-29  1.420040    1.594648  1.648600  1.735567  1.923014     3.174497   \n",
       "2021-09-30  1.413917    1.592595  1.631989  1.717221  1.903056     3.150643   \n",
       "2021-10-01  1.396934    1.585375  1.622199  1.705591  1.909509     3.139016   \n",
       "2021-10-04  1.413074    1.591474  1.635448  1.740169  1.923914     3.190325   \n",
       "2021-10-05  1.435544    1.624458  1.649135  1.757583  1.941321     3.214404   \n",
       "\n",
       "Symbols      OFSS.NS  TATAELXSI.NS  INFIBEAM.NS  NIITLTD.NS  \\\n",
       "Date                                                          \n",
       "2021-09-29  1.584978      4.183079     1.275026    2.656802   \n",
       "2021-09-30  1.592774      4.180314     1.258289    2.738069   \n",
       "2021-10-01  1.577496      4.321363     1.270461    2.571490   \n",
       "2021-10-04  1.615952      4.401172     1.323714    2.657538   \n",
       "2021-10-05  1.644200      4.364219     1.323714    2.596863   \n",
       "\n",
       "Symbols     portfolio_daily_returns  \n",
       "Date                                 \n",
       "2021-09-29                 2.074501  \n",
       "2021-09-30                 2.074985  \n",
       "2021-10-01                 2.054167  \n",
       "2021-10-04                 2.094756  \n",
       "2021-10-05                 2.103506  "
      ]
     },
     "execution_count": 240,
     "metadata": {},
     "output_type": "execute_result"
    }
   ],
   "source": [
    "Cumulative_returns_daily = (1+return_stocks).cumprod()\n",
    "Cumulative_returns_daily.tail(5)"
   ]
  },
  {
   "cell_type": "code",
   "execution_count": 241,
   "id": "fb0731c4",
   "metadata": {},
   "outputs": [
    {
     "data": {
      "text/plain": [
       "<AxesSubplot:xlabel='Date'>"
      ]
     },
     "execution_count": 241,
     "metadata": {},
     "output_type": "execute_result"
    },
    {
     "data": {
      "image/png": "[encoded data removed]",
      "text/plain": [
       "<Figure size 432x288 with 1 Axes>"
      ]
     },
     "metadata": {
      "needs_background": "light"
     },
     "output_type": "display_data"
    }
   ],
   "source": [
    "Cumulative_returns_daily['portfolio_daily_returns'].plot()"
   ]
  },
  {
   "cell_type": "code",
   "execution_count": 242,
   "id": "c9eb7f55",
   "metadata": {},
   "outputs": [
    {
     "data": {
      "text/html": [
       "<div>\n",
       "<style scoped>\n",
       "    .dataframe tbody tr th:only-of-type {\n",
       "        vertical-align: middle;\n",
       "    }\n",
       "\n",
       "    .dataframe tbody tr th {\n",
       "        vertical-align: top;\n",
       "    }\n",
       "\n",
       "    .dataframe thead th {\n",
       "        text-align: right;\n",
       "    }\n",
       "</style>\n",
       "<table border=\"1\" class=\"dataframe\">\n",
       "  <thead>\n",
       "    <tr style=\"text-align: right;\">\n",
       "      <th>Symbols</th>\n",
       "      <th>TCS.NS</th>\n",
       "      <th>HCLTECH.NS</th>\n",
       "      <th>INFY.NS</th>\n",
       "      <th>TECHM.NS</th>\n",
       "      <th>WIPRO.NS</th>\n",
       "      <th>MINDTREE.NS</th>\n",
       "      <th>OFSS.NS</th>\n",
       "      <th>TATAELXSI.NS</th>\n",
       "      <th>INFIBEAM.NS</th>\n",
       "      <th>NIITLTD.NS</th>\n",
       "    </tr>\n",
       "    <tr>\n",
       "      <th>Symbols</th>\n",
       "      <th></th>\n",
       "      <th></th>\n",
       "      <th></th>\n",
       "      <th></th>\n",
       "      <th></th>\n",
       "      <th></th>\n",
       "      <th></th>\n",
       "      <th></th>\n",
       "      <th></th>\n",
       "      <th></th>\n",
       "    </tr>\n",
       "  </thead>\n",
       "  <tbody>\n",
       "    <tr>\n",
       "      <th>TCS.NS</th>\n",
       "      <td>0.043988</td>\n",
       "      <td>0.031245</td>\n",
       "      <td>0.027553</td>\n",
       "      <td>0.028012</td>\n",
       "      <td>0.033628</td>\n",
       "      <td>0.038193</td>\n",
       "      <td>0.011867</td>\n",
       "      <td>0.019020</td>\n",
       "      <td>0.012956</td>\n",
       "      <td>0.014562</td>\n",
       "    </tr>\n",
       "    <tr>\n",
       "      <th>HCLTECH.NS</th>\n",
       "      <td>0.031245</td>\n",
       "      <td>0.071284</td>\n",
       "      <td>0.036942</td>\n",
       "      <td>0.047727</td>\n",
       "      <td>0.046906</td>\n",
       "      <td>0.058881</td>\n",
       "      <td>0.019888</td>\n",
       "      <td>0.026917</td>\n",
       "      <td>0.022485</td>\n",
       "      <td>0.033963</td>\n",
       "    </tr>\n",
       "    <tr>\n",
       "      <th>INFY.NS</th>\n",
       "      <td>0.027553</td>\n",
       "      <td>0.036942</td>\n",
       "      <td>0.046721</td>\n",
       "      <td>0.038045</td>\n",
       "      <td>0.038380</td>\n",
       "      <td>0.042156</td>\n",
       "      <td>0.014246</td>\n",
       "      <td>0.020987</td>\n",
       "      <td>0.012235</td>\n",
       "      <td>0.024804</td>\n",
       "    </tr>\n",
       "    <tr>\n",
       "      <th>TECHM.NS</th>\n",
       "      <td>0.028012</td>\n",
       "      <td>0.047727</td>\n",
       "      <td>0.038045</td>\n",
       "      <td>0.081581</td>\n",
       "      <td>0.047524</td>\n",
       "      <td>0.057001</td>\n",
       "      <td>0.018841</td>\n",
       "      <td>0.026045</td>\n",
       "      <td>0.018980</td>\n",
       "      <td>0.033008</td>\n",
       "    </tr>\n",
       "    <tr>\n",
       "      <th>WIPRO.NS</th>\n",
       "      <td>0.033628</td>\n",
       "      <td>0.046906</td>\n",
       "      <td>0.038380</td>\n",
       "      <td>0.047524</td>\n",
       "      <td>0.087007</td>\n",
       "      <td>0.059887</td>\n",
       "      <td>0.020948</td>\n",
       "      <td>0.033260</td>\n",
       "      <td>0.006648</td>\n",
       "      <td>0.027877</td>\n",
       "    </tr>\n",
       "    <tr>\n",
       "      <th>MINDTREE.NS</th>\n",
       "      <td>0.038193</td>\n",
       "      <td>0.058881</td>\n",
       "      <td>0.042156</td>\n",
       "      <td>0.057001</td>\n",
       "      <td>0.059887</td>\n",
       "      <td>0.128919</td>\n",
       "      <td>0.025757</td>\n",
       "      <td>0.039340</td>\n",
       "      <td>0.023316</td>\n",
       "      <td>0.028480</td>\n",
       "    </tr>\n",
       "    <tr>\n",
       "      <th>OFSS.NS</th>\n",
       "      <td>0.011867</td>\n",
       "      <td>0.019888</td>\n",
       "      <td>0.014246</td>\n",
       "      <td>0.018841</td>\n",
       "      <td>0.020948</td>\n",
       "      <td>0.025757</td>\n",
       "      <td>0.075831</td>\n",
       "      <td>0.015967</td>\n",
       "      <td>0.018892</td>\n",
       "      <td>0.018416</td>\n",
       "    </tr>\n",
       "    <tr>\n",
       "      <th>TATAELXSI.NS</th>\n",
       "      <td>0.019020</td>\n",
       "      <td>0.026917</td>\n",
       "      <td>0.020987</td>\n",
       "      <td>0.026045</td>\n",
       "      <td>0.033260</td>\n",
       "      <td>0.039340</td>\n",
       "      <td>0.015967</td>\n",
       "      <td>0.183477</td>\n",
       "      <td>0.001337</td>\n",
       "      <td>0.041331</td>\n",
       "    </tr>\n",
       "    <tr>\n",
       "      <th>INFIBEAM.NS</th>\n",
       "      <td>0.012956</td>\n",
       "      <td>0.022485</td>\n",
       "      <td>0.012235</td>\n",
       "      <td>0.018980</td>\n",
       "      <td>0.006648</td>\n",
       "      <td>0.023316</td>\n",
       "      <td>0.018892</td>\n",
       "      <td>0.001337</td>\n",
       "      <td>0.277336</td>\n",
       "      <td>0.009678</td>\n",
       "    </tr>\n",
       "    <tr>\n",
       "      <th>NIITLTD.NS</th>\n",
       "      <td>0.014562</td>\n",
       "      <td>0.033963</td>\n",
       "      <td>0.024804</td>\n",
       "      <td>0.033008</td>\n",
       "      <td>0.027877</td>\n",
       "      <td>0.028480</td>\n",
       "      <td>0.018416</td>\n",
       "      <td>0.041331</td>\n",
       "      <td>0.009678</td>\n",
       "      <td>0.311040</td>\n",
       "    </tr>\n",
       "  </tbody>\n",
       "</table>\n",
       "</div>"
      ],
      "text/plain": [
       "Symbols         TCS.NS  HCLTECH.NS   INFY.NS  TECHM.NS  WIPRO.NS  MINDTREE.NS  \\\n",
       "Symbols                                                                         \n",
       "TCS.NS        0.043988    0.031245  0.027553  0.028012  0.033628     0.038193   \n",
       "HCLTECH.NS    0.031245    0.071284  0.036942  0.047727  0.046906     0.058881   \n",
       "INFY.NS       0.027553    0.036942  0.046721  0.038045  0.038380     0.042156   \n",
       "TECHM.NS      0.028012    0.047727  0.038045  0.081581  0.047524     0.057001   \n",
       "WIPRO.NS      0.033628    0.046906  0.038380  0.047524  0.087007     0.059887   \n",
       "MINDTREE.NS   0.038193    0.058881  0.042156  0.057001  0.059887     0.128919   \n",
       "OFSS.NS       0.011867    0.019888  0.014246  0.018841  0.020948     0.025757   \n",
       "TATAELXSI.NS  0.019020    0.026917  0.020987  0.026045  0.033260     0.039340   \n",
       "INFIBEAM.NS   0.012956    0.022485  0.012235  0.018980  0.006648     0.023316   \n",
       "NIITLTD.NS    0.014562    0.033963  0.024804  0.033008  0.027877     0.028480   \n",
       "\n",
       "Symbols        OFSS.NS  TATAELXSI.NS  INFIBEAM.NS  NIITLTD.NS  \n",
       "Symbols                                                        \n",
       "TCS.NS        0.011867      0.019020     0.012956    0.014562  \n",
       "HCLTECH.NS    0.019888      0.026917     0.022485    0.033963  \n",
       "INFY.NS       0.014246      0.020987     0.012235    0.024804  \n",
       "TECHM.NS      0.018841      0.026045     0.018980    0.033008  \n",
       "WIPRO.NS      0.020948      0.033260     0.006648    0.027877  \n",
       "MINDTREE.NS   0.025757      0.039340     0.023316    0.028480  \n",
       "OFSS.NS       0.075831      0.015967     0.018892    0.018416  \n",
       "TATAELXSI.NS  0.015967      0.183477     0.001337    0.041331  \n",
       "INFIBEAM.NS   0.018892      0.001337     0.277336    0.009678  \n",
       "NIITLTD.NS    0.018416      0.041331     0.009678    0.311040  "
      ]
     },
     "execution_count": 242,
     "metadata": {},
     "output_type": "execute_result"
    }
   ],
   "source": [
    "matrix_covariance_portfolio = return_stocks.iloc[:,:-1]\n",
    "matrix_covariance_portfolio = (matrix_covariance_portfolio.cov())*252\n",
    "\n",
    "matrix_covariance_portfolio"
   ]
  },
  {
   "cell_type": "code",
   "execution_count": 243,
   "id": "49cc98ef",
   "metadata": {},
   "outputs": [
    {
     "data": {
      "text/plain": [
       "0.2005841973686122"
      ]
     },
     "execution_count": 243,
     "metadata": {},
     "output_type": "execute_result"
    }
   ],
   "source": [
    "portfolio_variance = np.dot(initial_weight.T,np.dot(matrix_covariance_portfolio, initial_weight))\n",
    "\n",
    "#standard deviation (risk of portfolio)\n",
    "portfolio_risk = np.sqrt(portfolio_variance)\n",
    "portfolio_risk"
   ]
  },
  {
   "cell_type": "code",
   "execution_count": 246,
   "id": "6fd3d153",
   "metadata": {},
   "outputs": [
    {
     "data": {
      "image/png": "[encoded data removed]",
      "text/plain": [
       "<Figure size 720x360 with 2 Axes>"
      ]
     },
     "metadata": {
      "needs_background": "light"
     },
     "output_type": "display_data"
    }
   ],
   "source": [
    "RF = 0\n",
    " \n",
    "return_stocks = df['Close'].pct_change()\n",
    "\n",
    "number_of_portfolios = 2000\n",
    "RF = 0\n",
    "\n",
    "\n",
    "portfolio_returns = []\n",
    "portfolio_risk = []\n",
    "sharpe_ratio_port = []\n",
    "portfolio_weights = []\n",
    "\n",
    "for portfolio in range (number_of_portfolios):\n",
    "  #generate a w random weight of lengt of number of stocks\n",
    "  weights = np.random.random_sample((len(stocks)))\n",
    " \n",
    "  weights = weights / np.sum(weights)\n",
    "  annualize_return = np.sum((return_stocks.mean() * weights) * 252)\n",
    "  portfolio_returns.append(annualize_return)\n",
    "  #variance\n",
    "  matrix_covariance_portfolio = (return_stocks.cov())*252\n",
    "  portfolio_variance = np.dot(weights.T,np.dot(matrix_covariance_portfolio, weights))\n",
    "  portfolio_standard_deviation= np.sqrt(portfolio_variance) \n",
    "  portfolio_risk.append(portfolio_standard_deviation)\n",
    "  #sharpe_ratio\n",
    "  sharpe_ratio = ((annualize_return- RF)/portfolio_standard_deviation)\n",
    "  sharpe_ratio_port.append(sharpe_ratio)\n",
    "\n",
    "  portfolio_weights.append(weights)\n",
    "\n",
    "portfolio_risk = np.array(portfolio_risk)\n",
    "portfolio_returns = np.array(portfolio_returns)\n",
    "sharpe_ratio_port = np.array(sharpe_ratio_port)\n",
    "\n",
    "plt.figure(figsize=(10, 5))\n",
    "plt.scatter(portfolio_risk, portfolio_returns, c=portfolio_returns / portfolio_risk) \n",
    "plt.xlabel('volatility')\n",
    "plt.ylabel('returns')\n",
    "plt.colorbar(label='Sharpe ratio')\n",
    "\n",
    "porfolio_metrics = [portfolio_returns,portfolio_risk,sharpe_ratio_port, portfolio_weights] \n",
    "\n",
    "portfolio_dfs = pd.DataFrame(porfolio_metrics)\n",
    "portfolio_dfs = portfolio_dfs.T\n",
    "portfolio_dfs.columns = ['Port Returns','Port Risk','Sharpe Ratio','Portfolio Weights']\n",
    "\n",
    "#convert from object to float the first three columns.\n",
    "for col in ['Port Returns', 'Port Risk', 'Sharpe Ratio']:\n",
    "    portfolio_dfs[col] = portfolio_dfs[col].astype(float)"
   ]
  },
  {
   "cell_type": "code",
   "execution_count": 245,
   "id": "af8bd19d",
   "metadata": {},
   "outputs": [
    {
     "data": {
      "text/html": [
       "<div>\n",
       "<style scoped>\n",
       "    .dataframe tbody tr th:only-of-type {\n",
       "        vertical-align: middle;\n",
       "    }\n",
       "\n",
       "    .dataframe tbody tr th {\n",
       "        vertical-align: top;\n",
       "    }\n",
       "\n",
       "    .dataframe thead th {\n",
       "        text-align: right;\n",
       "    }\n",
       "</style>\n",
       "<table border=\"1\" class=\"dataframe\">\n",
       "  <thead>\n",
       "    <tr style=\"text-align: right;\">\n",
       "      <th></th>\n",
       "      <th>Port Returns</th>\n",
       "      <th>Port Risk</th>\n",
       "      <th>Sharpe Ratio</th>\n",
       "      <th>Portfolio Weights</th>\n",
       "    </tr>\n",
       "  </thead>\n",
       "  <tbody>\n",
       "    <tr>\n",
       "      <th>0</th>\n",
       "      <td>0.788712</td>\n",
       "      <td>0.199263</td>\n",
       "      <td>3.958154</td>\n",
       "      <td>[0.05729551810332577, 0.05341674123027279, 0.1...</td>\n",
       "    </tr>\n",
       "    <tr>\n",
       "      <th>1</th>\n",
       "      <td>0.717866</td>\n",
       "      <td>0.190036</td>\n",
       "      <td>3.777532</td>\n",
       "      <td>[0.09477016721769987, 0.05848814931787497, 0.1...</td>\n",
       "    </tr>\n",
       "    <tr>\n",
       "      <th>2</th>\n",
       "      <td>0.727887</td>\n",
       "      <td>0.204775</td>\n",
       "      <td>3.554575</td>\n",
       "      <td>[0.17168701367873634, 0.0776832298981103, 0.03...</td>\n",
       "    </tr>\n",
       "    <tr>\n",
       "      <th>3</th>\n",
       "      <td>0.878068</td>\n",
       "      <td>0.207705</td>\n",
       "      <td>4.227486</td>\n",
       "      <td>[0.10039057207023379, 0.010311970221213666, 0....</td>\n",
       "    </tr>\n",
       "    <tr>\n",
       "      <th>4</th>\n",
       "      <td>0.695073</td>\n",
       "      <td>0.183715</td>\n",
       "      <td>3.783436</td>\n",
       "      <td>[0.19603394782217712, 0.05518224584702294, 0.1...</td>\n",
       "    </tr>\n",
       "    <tr>\n",
       "      <th>...</th>\n",
       "      <td>...</td>\n",
       "      <td>...</td>\n",
       "      <td>...</td>\n",
       "      <td>...</td>\n",
       "    </tr>\n",
       "    <tr>\n",
       "      <th>1995</th>\n",
       "      <td>0.800786</td>\n",
       "      <td>0.200502</td>\n",
       "      <td>3.993901</td>\n",
       "      <td>[0.13885941040725705, 0.04771934164921779, 0.0...</td>\n",
       "    </tr>\n",
       "    <tr>\n",
       "      <th>1996</th>\n",
       "      <td>0.871251</td>\n",
       "      <td>0.221331</td>\n",
       "      <td>3.936409</td>\n",
       "      <td>[0.021654769817835283, 0.19933124096285906, 0....</td>\n",
       "    </tr>\n",
       "    <tr>\n",
       "      <th>1997</th>\n",
       "      <td>0.654079</td>\n",
       "      <td>0.206506</td>\n",
       "      <td>3.167369</td>\n",
       "      <td>[0.11934780288120564, 0.000807653021915103, 0....</td>\n",
       "    </tr>\n",
       "    <tr>\n",
       "      <th>1998</th>\n",
       "      <td>0.822165</td>\n",
       "      <td>0.217941</td>\n",
       "      <td>3.772430</td>\n",
       "      <td>[0.17055579262524667, 0.10364203504278058, 0.0...</td>\n",
       "    </tr>\n",
       "    <tr>\n",
       "      <th>1999</th>\n",
       "      <td>0.807677</td>\n",
       "      <td>0.212311</td>\n",
       "      <td>3.804210</td>\n",
       "      <td>[0.006924219184166087, 0.15135792966834655, 0....</td>\n",
       "    </tr>\n",
       "  </tbody>\n",
       "</table>\n",
       "<p>2000 rows × 4 columns</p>\n",
       "</div>"
      ],
      "text/plain": [
       "      Port Returns  Port Risk  Sharpe Ratio  \\\n",
       "0         0.788712   0.199263      3.958154   \n",
       "1         0.717866   0.190036      3.777532   \n",
       "2         0.727887   0.204775      3.554575   \n",
       "3         0.878068   0.207705      4.227486   \n",
       "4         0.695073   0.183715      3.783436   \n",
       "...            ...        ...           ...   \n",
       "1995      0.800786   0.200502      3.993901   \n",
       "1996      0.871251   0.221331      3.936409   \n",
       "1997      0.654079   0.206506      3.167369   \n",
       "1998      0.822165   0.217941      3.772430   \n",
       "1999      0.807677   0.212311      3.804210   \n",
       "\n",
       "                                      Portfolio Weights  \n",
       "0     [0.05729551810332577, 0.05341674123027279, 0.1...  \n",
       "1     [0.09477016721769987, 0.05848814931787497, 0.1...  \n",
       "2     [0.17168701367873634, 0.0776832298981103, 0.03...  \n",
       "3     [0.10039057207023379, 0.010311970221213666, 0....  \n",
       "4     [0.19603394782217712, 0.05518224584702294, 0.1...  \n",
       "...                                                 ...  \n",
       "1995  [0.13885941040725705, 0.04771934164921779, 0.0...  \n",
       "1996  [0.021654769817835283, 0.19933124096285906, 0....  \n",
       "1997  [0.11934780288120564, 0.000807653021915103, 0....  \n",
       "1998  [0.17055579262524667, 0.10364203504278058, 0.0...  \n",
       "1999  [0.006924219184166087, 0.15135792966834655, 0....  \n",
       "\n",
       "[2000 rows x 4 columns]"
      ]
     },
     "execution_count": 245,
     "metadata": {},
     "output_type": "execute_result"
    }
   ],
   "source": [
    "porfolio_metrics = [portfolio_returns,portfolio_risk,sharpe_ratio_port, portfolio_weights] \n",
    "#from Python list we create a Pandas DataFrame\n",
    "portfolio_dfs = pd.DataFrame(porfolio_metrics)\n",
    "portfolio_dfs = portfolio_dfs.T\n",
    "#Rename the columns:\n",
    "portfolio_dfs.columns = ['Port Returns','Port Risk','Sharpe Ratio','Portfolio Weights']\n",
    "\n",
    "#convert from object to float the first three columns.\n",
    "for col in ['Port Returns', 'Port Risk', 'Sharpe Ratio']:\n",
    "    portfolio_dfs[col] = portfolio_dfs[col].astype(float)\n",
    "portfolio_dfs"
   ]
  },
  {
   "cell_type": "code",
   "execution_count": 249,
   "id": "c06d3258",
   "metadata": {},
   "outputs": [
    {
     "name": "stdout",
     "output_type": "stream",
     "text": [
      "Highest Sharpe Ratio\n",
      "Port Returns                                                  1.007547\n",
      "Port Risk                                                     0.224979\n",
      "Sharpe Ratio                                                  4.478395\n",
      "Portfolio Weights    [0.02786490063515504, 0.015567023800554676, 0....\n",
      "Name: 882, dtype: object\n",
      "\n",
      "Minimum Risk\n",
      "Port Returns                                                  0.659021\n",
      "Port Risk                                                     0.179542\n",
      "Sharpe Ratio                                                  3.670567\n",
      "Portfolio Weights    [0.13325150527654284, 0.026487399277140625, 0....\n",
      "Name: 846, dtype: object\n"
     ]
    }
   ],
   "source": [
    "#portfolio with the highest Sharpe Ratio\n",
    "Highest_sharpe_port = portfolio_dfs.iloc[portfolio_dfs['Sharpe Ratio'].idxmax()]\n",
    "#portfolio with the minimum risk \n",
    "min_risk = portfolio_dfs.iloc[portfolio_dfs['Port Risk'].idxmin()]\n",
    "\n",
    "#Highest_sharpe_port\n",
    "print(\"Highest Sharpe Ratio\")\n",
    "print(Highest_sharpe_port)\n",
    "print(\"\")\n",
    "print(\"Minimum Risk\")\n",
    "print(min_risk)"
   ]
  },
  {
   "cell_type": "code",
   "execution_count": 251,
   "id": "06cc1e5e",
   "metadata": {},
   "outputs": [
    {
     "name": "stdout",
     "output_type": "stream",
     "text": [
      "[0.0278649  0.01556702 0.0530687  0.15713178 0.03341683 0.17268494\n",
      " 0.10751142 0.29263945 0.05368149 0.08643347]\n"
     ]
    }
   ],
   "source": [
    "print(Highest_sharpe_port['Portfolio Weights'])"
   ]
  },
  {
   "cell_type": "code",
   "execution_count": 252,
   "id": "c205e6b5",
   "metadata": {},
   "outputs": [
    {
     "name": "stdout",
     "output_type": "stream",
     "text": [
      "[0.13325151 0.0264874  0.16936541 0.11358532 0.0329521  0.02226877\n",
      " 0.27376978 0.13173918 0.08109599 0.01548456]\n"
     ]
    }
   ],
   "source": [
    "print(min_risk['Portfolio Weights'])"
   ]
  },
  {
   "cell_type": "code",
   "execution_count": null,
   "id": "a0011aa8",
   "metadata": {},
   "outputs": [],
   "source": []
  }
 ],
 "metadata": {
  "kernelspec": {
   "display_name": "Python 3 (ipykernel)",
   "language": "python",
   "name": "python3"
  },
  "language_info": {
   "codemirror_mode": {
    "name": "ipython",
    "version": 3
   },
   "file_extension": ".py",
   "mimetype": "text/x-python",
   "name": "python",
   "nbconvert_exporter": "python",
   "pygments_lexer": "ipython3",
   "version": "3.9.7"
  }
 },
 "nbformat": 4,
 "nbformat_minor": 5
}
